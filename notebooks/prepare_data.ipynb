{
 "cells": [
  {
   "cell_type": "code",
   "execution_count": 3,
   "metadata": {
    "colab": {
     "base_uri": "https://localhost:8080/"
    },
    "executionInfo": {
     "elapsed": 146,
     "status": "ok",
     "timestamp": 1756200395259,
     "user": {
      "displayName": "Khin Sandar Htun",
      "userId": "09227796661244510174"
     },
     "user_tz": -390
    },
    "id": "2-BZ5fis0aax",
    "outputId": "06c45856-c3c1-466e-a2b9-ab6f9d16f6fa"
   },
   "outputs": [
    {
     "name": "stdout",
     "output_type": "stream",
     "text": [
      "   user_id  movie_id  rating         ts\n",
      "0      196       242       3  881250949\n",
      "1      186       302       3  891717742\n",
      "2       22       377       1  878887116\n",
      "3      244        51       2  880606923\n",
      "4      166       346       1  886397596\n",
      "   movie_id              title  unknown  Action  Adventure  Animation  \\\n",
      "0         1   Toy Story (1995)        0       0          0          1   \n",
      "1         2   GoldenEye (1995)        0       1          1          0   \n",
      "2         3  Four Rooms (1995)        0       0          0          0   \n",
      "3         4  Get Shorty (1995)        0       1          0          0   \n",
      "4         5     Copycat (1995)        0       0          0          0   \n",
      "\n",
      "   Children  Comedy  Crime  Documentary  ...  Film-Noir  Horror  Musical  \\\n",
      "0         1       1      0            0  ...          0       0        0   \n",
      "1         0       0      0            0  ...          0       0        0   \n",
      "2         0       0      0            0  ...          0       0        0   \n",
      "3         0       1      0            0  ...          0       0        0   \n",
      "4         0       0      1            0  ...          0       0        0   \n",
      "\n",
      "   Mystery  Romance  Sci-Fi  Thriller  War  Western                 genre_text  \n",
      "0        0        0       0         0    0        0  Animation Children Comedy  \n",
      "1        0        0       0         1    0        0  Action Adventure Thriller  \n",
      "2        0        0       0         1    0        0                   Thriller  \n",
      "3        0        0       0         0    0        0        Action Comedy Drama  \n",
      "4        0        0       0         1    0        0       Crime Drama Thriller  \n",
      "\n",
      "[5 rows x 22 columns]\n"
     ]
    }
   ],
   "source": [
    "# Access a file\n",
    "root = './'\n",
    "file_path = root + 'data/ml-100k/'\n",
    "\n",
    "import pandas as pd\n",
    "\n",
    "def load():\n",
    "    ratings = pd.read_csv(file_path + \"u.data\", sep=\"\\t\", names=[\"user_id\",\"movie_id\",\"rating\",\"ts\"])\n",
    "    movies_raw = pd.read_csv(file_path + \"u.item\", sep=\"|\", header=None, encoding=\"latin-1\")\n",
    "    genre_cols = [\"unknown\",\"Action\",\"Adventure\",\"Animation\",\"Children\",\"Comedy\",\"Crime\",\"Documentary\",\n",
    "                  \"Drama\",\"Fantasy\",\"Film-Noir\",\"Horror\",\"Musical\",\"Mystery\",\"Romance\",\"Sci-Fi\",\"Thriller\",\n",
    "                  \"War\",\"Western\"]\n",
    "    movies = movies_raw[[0,1]].copy()\n",
    "    movies.columns = [\"movie_id\",\"title\"]\n",
    "    movies[genre_cols] = movies_raw.iloc[:,5:24].values\n",
    "    movies[\"genre_text\"] = movies[genre_cols].apply(lambda r: \" \".join([g for g,v in zip(genre_cols, r) if v==1]), axis=1)\n",
    "    return ratings, movies, genre_cols\n",
    "\n",
    "if __name__ == \"__main__\":\n",
    "    ratings, movies, genre_cols = load()\n",
    "    print(ratings.head())\n",
    "    print(movies.head())\n",
    "    ratings.to_parquet(root + \"models/ratings.parquet\", index=False)\n",
    "    movies.to_parquet(root + \"models/movies.parquet\", index=False)\n"
   ]
  }
 ],
 "metadata": {
  "colab": {
   "authorship_tag": "ABX9TyMzlFL6YgEjUlRFKysbTbpz",
   "mount_file_id": "1pdUL11X7aKJrfzWgsb7_Ex5Fk-mOtsF0",
   "provenance": []
  },
  "kernelspec": {
   "display_name": "Python 3 (ipykernel)",
   "language": "python",
   "name": "python3"
  }
 },
 "nbformat": 4,
 "nbformat_minor": 0
}
