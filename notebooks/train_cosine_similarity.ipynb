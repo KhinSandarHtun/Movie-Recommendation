{
 "cells": [
  {
   "cell_type": "code",
   "execution_count": 1,
   "metadata": {
    "executionInfo": {
     "elapsed": 5506,
     "status": "ok",
     "timestamp": 1756311501336,
     "user": {
      "displayName": "Khin Sandar Htun",
      "userId": "09227796661244510174"
     },
     "user_tz": -390
    },
    "id": "G6-mXePJjNEo"
   },
   "outputs": [],
   "source": [
    "# training/02_train_content.py\n",
    "import pandas as pd\n",
    "import numpy as np\n",
    "import joblib\n",
    "from pathlib import Path\n",
    "from sklearn.feature_extraction.text import TfidfVectorizer\n",
    "from sklearn.metrics.pairwise import cosine_similarity\n",
    "\n",
    "root = './'\n",
    "movies = pd.read_parquet(root + \"models/movies.parquet\")\n",
    "\n",
    "corpus = movies[\"genre_text\"]\n",
    "tfidf = TfidfVectorizer(norm=None, stop_words=\"english\", min_df=1)\n",
    "X = tfidf.fit_transform(corpus)\n",
    "\n",
    "# Pre-compute item-item similarity (or defer to runtime for memory)\n",
    "sim = cosine_similarity(X, X).astype(np.float32)\n",
    "\n",
    "# movie dictionary\n",
    "movie_dict = {title: idx for idx, title in enumerate(movies['title'])}\n",
    "joblib.dump(movie_dict, root + \"models/movie_dict.joblib\")\n",
    "\n",
    "joblib.dump(tfidf, root + \"models/tfidf.joblib\")\n",
    "\n",
    "np.save(root + \"models/content_sim.npy\", sim)\n"
   ]
  }
 ],
 "metadata": {
  "colab": {
   "authorship_tag": "ABX9TyNy+2BFbvfINpunOepyguMN",
   "mount_file_id": "1gI_DLxWOVVshV1TqCn5IJW-lVNhoECnR",
   "provenance": []
  },
  "kernelspec": {
   "display_name": "Python 3 (ipykernel)",
   "language": "python",
   "name": "python3"
  },
  "language_info": {
   "codemirror_mode": {
    "name": "ipython",
    "version": 3
   },
   "file_extension": ".py",
   "mimetype": "text/x-python",
   "name": "python",
   "nbconvert_exporter": "python",
   "pygments_lexer": "ipython3",
   "version": "3.13.5"
  }
 },
 "nbformat": 4,
 "nbformat_minor": 0
}
